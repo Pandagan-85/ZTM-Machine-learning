{
  "nbformat": 4,
  "nbformat_minor": 0,
  "metadata": {
    "colab": {
      "provenance": [],
      "mount_file_id": "1spc0m1u4U-zqcp_kQmI9O5LxTLsTXJZ8",
      "authorship_tag": "ABX9TyMHlu41ePpeW2ZwMSxaa6pO",
      "include_colab_link": true
    },
    "kernelspec": {
      "name": "python3",
      "display_name": "Python 3"
    },
    "language_info": {
      "name": "python"
    }
  },
  "cells": [
    {
      "cell_type": "markdown",
      "metadata": {
        "id": "view-in-github",
        "colab_type": "text"
      },
      "source": [
        "<a href=\"https://colab.research.google.com/github/Pandagan-85/ZTM-Machine-learning/blob/main/end_to_end_dog_vision.ipynb\" target=\"_parent\"><img src=\"https://colab.research.google.com/assets/colab-badge.svg\" alt=\"Open In Colab\"/></a>"
      ]
    },
    {
      "cell_type": "markdown",
      "source": [
        "# 🐶 End-to-end Multi-Class Dog Breed Classification\n",
        "This notebook builds an end-to-end mult-class image classifier using TensorFlow 2.0 and TensorFlow Hub.\n",
        "\n",
        "## 1. Problem\n",
        "Identifying the breed of a dog given an image of a dog.\n",
        "\n",
        "When I'm sitting at the cafe and i take a photo of a dog, I want to know what breed of dog it is.\n",
        "\n",
        "## 2. Data\n",
        "\n",
        "The Data we're using is from Kaggle's dog breed identification competition. [qui](https://www.kaggle.com/c/dog-breed-identification/data)\n",
        "\n",
        "## 3. Evaluation\n",
        "The evaluation is a file with prediction probabilities for each dog breed for each test image. [qui](www.kaggle.com/competitions/dog-breed-identification/overview/evaluation)\n",
        "```\n",
        "id,affenpinscher,afghan_hound,..,yorkshire_terrier\n",
        "000621fb3cbb32d8935728e48679680e,0.0083,0.0,...,0.0083\n",
        "etc.\n",
        "```\n",
        "\n",
        "## 4. Features\n",
        "Some information about the data:\n",
        "* We're dealing with images(unstructured data) so it's problaby best we use deep learning/transfer learning.\n",
        "* There are 120 breeds of dogs (this means there are 120 different classes).\n",
        "* There are around 10,000+ images in the training set (These images have labels)\n",
        "* There are around 10,000+ images in the test set  (These images have no labels, because we'll want to predict them.)"
      ],
      "metadata": {
        "id": "-wVAPjQfkdxg"
      }
    },
    {
      "cell_type": "code",
      "source": [
        "# Unzip the uploaded data to Google Drive\n",
        "#!unzip \"drive/MyDrive/Dog Vision/dog-breed-identification.zip\" -d \"drive/MyDrive/Dog Vision/\""
      ],
      "metadata": {
        "id": "kSjT1NhFr0iS",
        "collapsed": true
      },
      "execution_count": 3,
      "outputs": []
    },
    {
      "cell_type": "markdown",
      "source": [
        "## Get out workspace ready\n",
        "* Import TensorFlow 2.x ✅\n",
        "* Import TensorFlow Hub\n",
        "* Make sure we're using a GPU"
      ],
      "metadata": {
        "id": "3dozltk1S3yR"
      }
    },
    {
      "cell_type": "code",
      "source": [
        "# Import TensorFlow into Colab\n",
        "import tensorflow as tf\n",
        "print(\"TF version:\", tf.__version__)"
      ],
      "metadata": {
        "colab": {
          "base_uri": "https://localhost:8080/"
        },
        "id": "gZhXJqZ-S9qK",
        "outputId": "0f821545-c9cf-40af-b1b4-43342a289e79"
      },
      "execution_count": 2,
      "outputs": [
        {
          "output_type": "stream",
          "name": "stdout",
          "text": [
            "TF version: 2.18.0\n"
          ]
        }
      ]
    },
    {
      "cell_type": "code",
      "source": [],
      "metadata": {
        "id": "3-iPSKl2TFyr"
      },
      "execution_count": null,
      "outputs": []
    }
  ]
}