{
 "cells": [
  {
   "cell_type": "markdown",
   "id": "53850010-ea7a-418d-ba84-d0d9aa9e545a",
   "metadata": {},
   "source": [
    "# Reminder workflow\n",
    "\n",
    "<img src=\"images/Screenshot 2025-01-22 alle 17.50.35.png\" />\n"
   ]
  },
  {
   "cell_type": "markdown",
   "id": "cb6f6d3b-f4fe-4ecc-8285-16c5f0ea3eed",
   "metadata": {},
   "source": [
    "# Predicting heart disease using machine learning\n",
    "\n",
    "This notebook looks into using various Python-based machine learning and data science libraries in an attempt to build a machine learning model capable of predicting wheter or not someone has heart disease based on their medical attributes.\n",
    "\n",
    "We're going to take the following approach:\n",
    "1. Problem definition\n",
    "2. Data\n",
    "3. Evaluation\n",
    "4. Features\n",
    "5. Modelling\n",
    "6. Experimentation"
   ]
  },
  {
   "cell_type": "markdown",
   "id": "ed93f28a-9c92-4bf3-b2b1-e57d6e4d79ac",
   "metadata": {},
   "source": [
    "## 1. Problem Definition\n",
    "> Dati dei parametri clinici di un paziente, possiamo prevedere se avrà o meno un attacco di cuore?\n",
    "\n",
    "## 2. Data\n",
    "A data dictionary describes the data you're dealing with.\n",
    "\n",
    "Not all datasets come with them so this is where you may have to do your research or ask a subject matter expert (someone who knows about the data) for more.\n",
    "\n",
    "https://archive.ics.uci.edu/dataset/45/heart+disease\n",
    "\n",
    "## 3. Evaluation\n",
    "> Se riusciamo a raggiungere una precisione (accuracy) del 95% nel prevedere se un paziente ha o meno una malattia cardiaca durante la prova di concetto, porteremo avanti il ​​progetto.\n",
    "\n",
    "## 4. Features\n",
    "**Create a data dictionary**\n",
    "Possiamo crearlo da soli, oppure consultare un esperto del settore, per capire cosa significano nello specifico le varie feature e quali sono realmente utili e quali potrebbero essere eliminate.\n",
    "\n",
    "Nel dataset, dalla documentazione da cui lo abbiamo preso, scopriamo che di 76 attributi ne è stato usato un subset di 14\n",
    "\n",
    "<img src =\"images/Screenshot 2025-01-22 alle 18.50.05.png\" width=400>"
   ]
  },
  {
   "cell_type": "code",
   "execution_count": null,
   "id": "bb98746d-7e04-4d0e-8e65-c6869003bf57",
   "metadata": {},
   "outputs": [],
   "source": []
  }
 ],
 "metadata": {
  "kernelspec": {
   "display_name": "Python 3 (ipykernel)",
   "language": "python",
   "name": "python3"
  },
  "language_info": {
   "codemirror_mode": {
    "name": "ipython",
    "version": 3
   },
   "file_extension": ".py",
   "mimetype": "text/x-python",
   "name": "python",
   "nbconvert_exporter": "python",
   "pygments_lexer": "ipython3",
   "version": "3.12.8"
  }
 },
 "nbformat": 4,
 "nbformat_minor": 5
}
