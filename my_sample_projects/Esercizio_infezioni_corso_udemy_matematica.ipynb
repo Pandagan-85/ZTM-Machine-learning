{
 "cells": [
  {
   "cell_type": "markdown",
   "id": "559295e2-6586-4077-92c3-a3739433d540",
   "metadata": {},
   "source": [
    "# Esercizio probabilità\n",
    "Question — A new virus is spreading! Already 10,000 people are infected (out of 335,000,000). Luckily, a new rapid test is available which has a true positive and true negative rate of 99%. Unfortunately your test is positive now!\n",
    "\n",
    "What is the probability that you are infected?\n",
    "userò \n",
    "$P(A|B) = \\frac{P(B|A)* P(A)}{P(B)}$"
   ]
  },
  {
   "cell_type": "code",
   "execution_count": 2,
   "id": "120f5a00-e961-44a4-af3e-4ab6ed4a2c82",
   "metadata": {},
   "outputs": [],
   "source": [
    "import numpy as np"
   ]
  },
  {
   "cell_type": "code",
   "execution_count": 5,
   "id": "c62d5665-de59-45e4-9a58-f77df0902544",
   "metadata": {},
   "outputs": [],
   "source": [
    "# Dati del problema\n",
    "total_population = 335000000 # Popolazione totale\n",
    "infected = 10000  # Numero di persone infette\n",
    "sensitivity = 0.99 # Sensibilità del test (P(B|A))\n",
    "false_positive_rate = 0.01 # Tasso di falso positivo (P(B|¬A)), non sono infetto ma il test è positivo\n",
    "\n",
    "# Probabilità a priori di essere infetti (P(A))\n",
    "P_A = infected / total_population\n",
    "\n",
    "# Probabilità di non essere infetti (P(¬A))\n",
    "P_not_A = 1 - P_A"
   ]
  },
  {
   "cell_type": "code",
   "execution_count": 10,
   "id": "163cc2df-0c69-45f4-b0c4-a30415758446",
   "metadata": {},
   "outputs": [],
   "source": [
    "# Calcoliamo la probabilità che il test risulti positivo (P(B))\n",
    "# La probabilità che il test risulti positivo è la somma di due probabilità: \n",
    "# il test positivo dato che sei infetto e il falso positivo dato che non sei infetto.\n",
    "P_B = (sensitivity * P_A) + (false_positive_rate * P_not_A)"
   ]
  },
  {
   "cell_type": "code",
   "execution_count": 7,
   "id": "708fe7d0-4d38-475f-9af3-c844e6130cb7",
   "metadata": {},
   "outputs": [],
   "source": [
    "# Calcoliamo la probabilità che tu sia infetto dato che il test è positivo (P(A|B))\n",
    "P_A_given_B = (sensitivity * P_A) / P_B"
   ]
  },
  {
   "cell_type": "code",
   "execution_count": 8,
   "id": "2273cb30-a325-4867-b239-e8f1122d7584",
   "metadata": {},
   "outputs": [
    {
     "name": "stdout",
     "output_type": "stream",
     "text": [
      "La probabilità che tu sia infetto dato che il test è positivo: 0.0029\n"
     ]
    }
   ],
   "source": [
    "# Stampa il risultato\n",
    "print(f\"La probabilità che tu sia infetto dato che il test è positivo: {P_A_given_B:.4f}\")"
   ]
  },
  {
   "cell_type": "code",
   "execution_count": 12,
   "id": "c0dd43ec-f7d7-4496-80ad-b3707f16fd08",
   "metadata": {},
   "outputs": [
    {
     "name": "stdout",
     "output_type": "stream",
     "text": [
      "La probabilità che tu sia infetto dato che il test è positivo: 0.29%\n"
     ]
    }
   ],
   "source": [
    "# Stampa il risultato in percentuale\n",
    "print(f\"La probabilità che tu sia infetto dato che il test è positivo: {P_A_given_B * 100:.2f}%\")"
   ]
  },
  {
   "cell_type": "code",
   "execution_count": null,
   "id": "09a217c3-ed5d-4b6e-84ef-de083f2b4e1b",
   "metadata": {},
   "outputs": [],
   "source": []
  }
 ],
 "metadata": {
  "kernelspec": {
   "display_name": "Python 3 (ipykernel)",
   "language": "python",
   "name": "python3"
  },
  "language_info": {
   "codemirror_mode": {
    "name": "ipython",
    "version": 3
   },
   "file_extension": ".py",
   "mimetype": "text/x-python",
   "name": "python",
   "nbconvert_exporter": "python",
   "pygments_lexer": "ipython3",
   "version": "3.12.8"
  }
 },
 "nbformat": 4,
 "nbformat_minor": 5
}
