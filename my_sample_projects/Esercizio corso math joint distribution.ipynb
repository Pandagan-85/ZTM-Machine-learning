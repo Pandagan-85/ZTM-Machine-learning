{
 "cells": [
  {
   "cell_type": "code",
   "execution_count": 1,
   "id": "481addce-3a95-4c21-a0c7-a862ab944f5d",
   "metadata": {},
   "outputs": [],
   "source": [
    "import pandas as pd\n",
    "import numpy as np"
   ]
  },
  {
   "cell_type": "code",
   "execution_count": 2,
   "id": "bfdc9f25-a315-4b55-ae52-6eacdb0f8c5e",
   "metadata": {},
   "outputs": [
    {
     "name": "stdout",
     "output_type": "stream",
     "text": [
      "      A    B\n",
      "0   1.7 -0.1\n",
      "1   2.4 -0.3\n",
      "2   0.1  3.2\n",
      "3   0.5  2.5\n",
      "4  -2.5  5.2\n",
      "5   6.6 -1.3\n",
      "6   1.5  0.2\n",
      "7   0.2  1.8\n",
      "8   0.1  2.2\n",
      "9   2.1  0.3\n",
      "10  3.1  0.1\n",
      "11 -1.1  1.9\n"
     ]
    }
   ],
   "source": [
    "# Creazione di un DataFrame con i dati\n",
    "data = {\n",
    "    \"A\": [1.7, 2.4, 0.1, 0.5, -2.5, 6.6, 1.5, 0.2, 0.1, 2.1, 3.1, -1.1],\n",
    "    \"B\": [-0.1, -0.3, 3.2, 2.5, 5.2, -1.3, 0.2, 1.8, 2.2, 0.3, 0.1, 1.9]\n",
    "}\n",
    "df = pd.DataFrame(data)\n",
    "print(df)"
   ]
  },
  {
   "cell_type": "code",
   "execution_count": 3,
   "id": "3315b367-7fab-4828-a10c-faa020eae86d",
   "metadata": {},
   "outputs": [
    {
     "name": "stdout",
     "output_type": "stream",
     "text": [
      "Covarianza tra A e B: -3.672954545454546\n"
     ]
    }
   ],
   "source": [
    "# Calcolo della covarianza\n",
    "cov_matrix = df.cov()\n",
    "cov_ab = cov_matrix.loc[\"A\", \"B\"]\n",
    "print(f\"Covarianza tra A e B: {cov_ab}\")"
   ]
  },
  {
   "cell_type": "markdown",
   "id": "6484f4c8-9e99-4a7c-849e-723ed14b6db0",
   "metadata": {},
   "source": [
    "Il risultato rappresenta il grado con cui le due variabili variano insieme:\n",
    "- Un valore positivo indica una relazione diretta.\n",
    "- Un valore negativo indica una relazione inversa."
   ]
  },
  {
   "cell_type": "code",
   "execution_count": 5,
   "id": "288ebd88-a9d3-4ab4-a198-6678fbc093ca",
   "metadata": {},
   "outputs": [
    {
     "name": "stdout",
     "output_type": "stream",
     "text": [
      "Coefficiente di Pearson tra A e B: -0.8749703032301549\n"
     ]
    }
   ],
   "source": [
    "# Calcolo della correlazione di Pearson\n",
    "pearson_corr = df.corr().loc[\"A\", \"B\"]\n",
    "print(f\"Coefficiente di Pearson tra A e B: {pearson_corr}\")"
   ]
  },
  {
   "cell_type": "code",
   "execution_count": null,
   "id": "00b8ed86-2bd5-47c1-ba3d-c96950fb2f97",
   "metadata": {},
   "outputs": [],
   "source": []
  }
 ],
 "metadata": {
  "kernelspec": {
   "display_name": "Python 3 (ipykernel)",
   "language": "python",
   "name": "python3"
  },
  "language_info": {
   "codemirror_mode": {
    "name": "ipython",
    "version": 3
   },
   "file_extension": ".py",
   "mimetype": "text/x-python",
   "name": "python",
   "nbconvert_exporter": "python",
   "pygments_lexer": "ipython3",
   "version": "3.12.8"
  }
 },
 "nbformat": 4,
 "nbformat_minor": 5
}
